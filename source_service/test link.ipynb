{
 "cells": [
  {
   "cell_type": "code",
   "execution_count": 1,
   "metadata": {},
   "outputs": [],
   "source": [
    "import requests"
   ]
  },
  {
   "cell_type": "code",
   "execution_count": 2,
   "metadata": {},
   "outputs": [
    {
     "name": "stdout",
     "output_type": "stream",
     "text": [
      "d\n"
     ]
    }
   ],
   "source": [
    "with open('./imgs/frame1269.jpg', 'rb') as f:\n",
    "    print(\"d\")\n",
    "          "
   ]
  },
  {
   "cell_type": "code",
   "execution_count": 2,
   "metadata": {},
   "outputs": [],
   "source": [
    "searchUrl = 'http://www.google.hr/searchbyimage/upload'"
   ]
  },
  {
   "cell_type": "code",
   "execution_count": 3,
   "metadata": {},
   "outputs": [
    {
     "name": "stdout",
     "output_type": "stream",
     "text": [
      "<open file './imgs/frame1269.jpg', mode 'rb' at 0x103a48d20>\n"
     ]
    }
   ],
   "source": [
    "with open('./imgs/frame1269.jpg', 'rb') as f:\n",
    "    print(f)"
   ]
  },
  {
   "cell_type": "code",
   "execution_count": 3,
   "metadata": {},
   "outputs": [],
   "source": [
    "r = None\n",
    "fetchUrl = \"\"\n",
    "with open('./imgs/frame1269.jpg', 'rb') as f:\n",
    "        multipart = {'encoded_image': f, 'image_content': ''}\n",
    "        response = requests.post(searchUrl, files=multipart, allow_redirects=False)\n",
    "        fetchUrl = response.headers['Location']\n",
    "        r = requests.get(fetchUrl)\n"
   ]
  },
  {
   "cell_type": "code",
   "execution_count": 8,
   "metadata": {},
   "outputs": [],
   "source": [
    "from bs4 import BeautifulSoup\n",
    "soup = BeautifulSoup(r.text, 'html.parser')"
   ]
  },
  {
   "cell_type": "code",
   "execution_count": 9,
   "metadata": {},
   "outputs": [
    {
     "data": {
      "text/plain": [
       "[<a class=\"gb1\" href=\"http://www.google.com/imghp?hl=en&amp;tab=wi\">Images</a>,\n",
       " <a class=\"gb1\" href=\"http://maps.google.com/maps?hl=en&amp;tab=wl\">Maps</a>,\n",
       " <a class=\"gb1\" href=\"https://play.google.com/?hl=en&amp;tab=w8\">Play</a>,\n",
       " <a class=\"gb1\" href=\"http://www.youtube.com/?gl=US&amp;tab=w1\">YouTube</a>,\n",
       " <a class=\"gb1\" href=\"http://news.google.com/nwshp?hl=en&amp;tab=wn\">News</a>,\n",
       " <a class=\"gb1\" href=\"https://mail.google.com/mail/?tab=wm\">Gmail</a>,\n",
       " <a class=\"gb1\" href=\"https://drive.google.com/?tab=wo\">Drive</a>,\n",
       " <a class=\"gb1\" href=\"https://www.google.com/intl/en/options/\" style=\"text-decoration:none\"><u>More</u> \\xbb</a>,\n",
       " <a class=\"gb4\" href=\"http://www.google.com/history/optout?hl=en\">Web History</a>,\n",
       " <a class=\"gb4\" href=\"/preferences?hl=en\">Settings</a>,\n",
       " <a class=\"gb4\" href=\"https://accounts.google.com/ServiceLogin?hl=en&amp;passive=true&amp;continue=http://www.google.hr/webhp%3Ftbs%3Dsbi:AMhZZiuJNbHNIC50w-aRMjjtOVCA47o56LZK3Cjs3sfZH0RQ_1J7wRJ_1wyMHHGvahJF0G-AN39ea2Wau2DscBN8C6uolacmGqgmEK8asdHtQau276jbP70SQ6tpiOB9MbLtHWGLOZDazgKWejTIg3Ex9mWohaao3VmmcmKi4Q7hwLfdUlmxJGSJ5AcUc-7SaJahJyjEJ2bm6fo2xWNn1yPTmIyJeYZUCWXIqvLmeTGsn4Kl_1mHwutp2xvTIdkynG_19NdG4wGpxbEK-XvzvMj4X08efoh3TrJW-TUGvhLpch1XheLRC-WaKxNm9_1LuG6sgzkSKUnYItDJv\" id=\"gb_70\" target=\"_top\">Sign in</a>,\n",
       " <a href=\"/advanced_search?hl=en&amp;authuser=0\">Advanced search</a>,\n",
       " <a href=\"/language_tools?hl=en&amp;authuser=0\">Language tools</a>,\n",
       " <a href=\"http://www.google.hr/setprefs?sig=0_nKsXboC-tNwwvc1Qq7p2xzKWBP4%3D&amp;hl=hr&amp;source=homepage&amp;sa=X&amp;ved=0ahUKEwjk6NPN3efaAhXtmOAKHWlZBEsQ2ZgBCAU\">hrvatski</a>,\n",
       " <a href=\"/intl/en/ads/\">Advertising\\xa0Programs</a>,\n",
       " <a href=\"/services/\">Business Solutions</a>,\n",
       " <a href=\"https://plus.google.com/116899029375914044550\" rel=\"publisher\">+Google</a>,\n",
       " <a href=\"/intl/en/about.html\">About Google</a>,\n",
       " <a href=\"http://www.google.hr/setprefdomain?prefdom=US&amp;sig=__MRqJMK3M8Hr9EZgoxnzUC_ThzL8%3D\" id=\"fehl\">Google.com</a>,\n",
       " <a href=\"/intl/en/policies/privacy/\">Privacy</a>,\n",
       " <a href=\"/intl/en/policies/terms/\">Terms</a>]"
      ]
     },
     "execution_count": 9,
     "metadata": {},
     "output_type": "execute_result"
    }
   ],
   "source": [
    "soup.find_all('a')"
   ]
  },
  {
   "cell_type": "code",
   "execution_count": 12,
   "metadata": {},
   "outputs": [
    {
     "name": "stdout",
     "output_type": "stream",
     "text": [
      "http://www.youtube.com/?gl=US&tab=w1\n"
     ]
    }
   ],
   "source": [
    "for link in soup.find_all('a'):\n",
    "    content = link.get('href')\n",
    "    if \"youtube\" in content:\n",
    "        print(content)\n"
   ]
  },
  {
   "cell_type": "code",
   "execution_count": 4,
   "metadata": {},
   "outputs": [],
   "source": [
    "from selenium import webdriver\n",
    "from selenium.webdriver.chrome.options import Options"
   ]
  },
  {
   "cell_type": "code",
   "execution_count": 9,
   "metadata": {},
   "outputs": [
    {
     "name": "stdout",
     "output_type": "stream",
     "text": [
      "Scraping...\n",
      "[u'https://www.imdb.com/title/tt1431045/', u'https://en.wikipedia.org/wiki/Deadpool_(film)', u'https://coed.com/2018/04/19/deadpool-2-final-trailer/']\n"
     ]
    }
   ],
   "source": [
    "chrome_options = Options()  \n",
    "chrome_options.add_argument(\"--headless\")  \n",
    "\n",
    "driver = webdriver.Chrome(executable_path='/Users/chongtian/Downloads/chromedriver',chrome_options=chrome_options)\n",
    "print(\"Scraping...\")\n",
    "driver.get(fetchUrl)\n",
    "elements = driver.find_elements_by_class_name(\"iUh30\")\n",
    "element_list = []\n",
    "\n",
    "for element in elements:\n",
    "    element_list.append(element.text)\n",
    "print(element_list[0:3])"
   ]
  },
  {
   "cell_type": "code",
   "execution_count": null,
   "metadata": {},
   "outputs": [],
   "source": []
  }
 ],
 "metadata": {
  "kernelspec": {
   "display_name": "Python 2",
   "language": "python",
   "name": "python2"
  },
  "language_info": {
   "codemirror_mode": {
    "name": "ipython",
    "version": 2
   },
   "file_extension": ".py",
   "mimetype": "text/x-python",
   "name": "python",
   "nbconvert_exporter": "python",
   "pygments_lexer": "ipython2",
   "version": "2.7.10"
  }
 },
 "nbformat": 4,
 "nbformat_minor": 2
}
